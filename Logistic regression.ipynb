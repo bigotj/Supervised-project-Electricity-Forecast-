{
 "cells": [
  {
   "cell_type": "markdown",
   "metadata": {},
   "source": [
    "# Logistic model \n",
    "This model is an application in Python of the model developped in chapter 4.6 of the book : \"introduction to statistical learning\" (Gareth James, Daniela Witten, Trevor Hastie, Robert Tibshirani). The aim of the model is to predict whether the day ahead price of electricity will go up or down based on logistic regression predictions. \n",
    "\n",
    "## 1. Load packages"
   ]
  },
  {
   "cell_type": "code",
   "execution_count": 1,
   "metadata": {},
   "outputs": [],
   "source": [
    "import pandas as pd \n",
    "import numpy as np\n",
    "import matplotlib.pyplot as plt \n",
    "import statsmodels.api as sm\n",
    "from sklearn.linear_model import LogisticRegression\n",
    "from sklearn.model_selection import train_test_split\n",
    "from sklearn.metrics import classification_report, confusion_matrix"
   ]
  },
  {
   "cell_type": "markdown",
   "metadata": {},
   "source": [
    "## 2. Prepare data "
   ]
  },
  {
   "cell_type": "code",
   "execution_count": 2,
   "metadata": {},
   "outputs": [],
   "source": [
    "#load data\n",
    "df = pd.read_csv(\"C:/Users/julie/supervised_project/PS2021.csv\", index_col='Unnamed: 0')\n",
    "\n",
    "#compute returns \n",
    "df['preturn'] = df['day_ahead_p'].pct_change()\n",
    "\n",
    "#create a direction variable : 1 if price went up, 0 if price went down \n",
    "df['direction'] = 1 * (df['preturn'] >=0) \n",
    "\n",
    "#drop nan\n",
    "df = df.dropna()\n",
    "\n",
    "#define X and y \n",
    "X = df[[\n",
    "    'sim_wthr_fcst',\n",
    "    'sim_wthr_fcst2',\n",
    "    'day_ahead_p_lag24',\n",
    "    'day_ahead_p_lag25',\n",
    "    'day_ahead_p_lag26',\n",
    "    'day_ahead_p_lag27',\n",
    "    'day_ahead_p_lag28',\n",
    "    'day_ahead_p_lag29',\n",
    "    'day_ahead_p_lag30',\n",
    "    'day_ahead_p_lag31',\n",
    "    'day_ahead_p_lag32',\n",
    "    'day_ahead_p_lag33',\n",
    "    'day_ahead_p_lag34',\n",
    "    'day_ahead_p_lag35',\n",
    "    'day_ahead_p_lag36',\n",
    "    'day_ahead_p_lag37',\n",
    "    'day_ahead_p_lag38',\n",
    "    'day_ahead_p_lag39',\n",
    "    'day_ahead_p_lag40',\n",
    "    'day_ahead_p_lag41',\n",
    "    'day_ahead_p_lag42',\n",
    "    'day_ahead_p_lag43',\n",
    "    'day_ahead_p_lag44',\n",
    "    'day_ahead_p_lag45',\n",
    "    'day_ahead_p_lag46',\n",
    "    'day_ahead_p_lag47',\n",
    "    'load_lag24',\n",
    "   ]]\n",
    "\n",
    "y = df['direction']\n",
    "\n",
    "#split the dataframe betweenn train and test \n",
    "X_train = X.iloc[:round(len(df)*0.75)]\n",
    "y_train = y.iloc[:round(len(df)*0.75)]\n",
    "X_test = X.iloc[round(len(df)*0.75)+1:]\n",
    "y_test = y.iloc[round(len(df)*0.75)+1:]"
   ]
  },
  {
   "cell_type": "markdown",
   "metadata": {},
   "source": [
    "## 3. Estimation "
   ]
  },
  {
   "cell_type": "code",
   "execution_count": 3,
   "metadata": {},
   "outputs": [],
   "source": [
    "logreg = LogisticRegression(fit_intercept=True, max_iter=10000) \n",
    "logreg.fit(X_train, y_train)\n",
    "const = logreg.intercept_\n",
    "coefs = logreg.coef_\n",
    "prob = logreg.predict_proba(X_test)\n",
    "pred = logreg.predict(X_test)\n",
    "score = logreg.score(X_test, y_test)"
   ]
  },
  {
   "cell_type": "markdown",
   "metadata": {},
   "source": [
    "## 4. Evaluation"
   ]
  },
  {
   "cell_type": "code",
   "execution_count": 4,
   "metadata": {},
   "outputs": [
    {
     "data": {
      "image/png": "[encoded data removed]",
      "text/plain": [
       "<Figure size 576x576 with 1 Axes>"
      ]
     },
     "metadata": {
      "needs_background": "light"
     },
     "output_type": "display_data"
    }
   ],
   "source": [
    "cm = confusion_matrix(y_test, logreg.predict(X_test))\n",
    "\n",
    "fig, ax = plt.subplots(figsize=(8, 8))\n",
    "ax.imshow(cm)\n",
    "ax.grid(False)\n",
    "ax.xaxis.set(ticks=(0, 1), ticklabels=('Predicted 0s', 'Predicted 1s'))\n",
    "ax.yaxis.set(ticks=(0, 1), ticklabels=('Actual 0s', 'Actual 1s'))\n",
    "ax.set_ylim(1.5, -0.5)\n",
    "for i in range(2):\n",
    "    for j in range(2):\n",
    "        ax.text(j, i, cm[i, j], ha='center', va='center', color='red')\n",
    "plt.savefig('confusiionM.png')"
   ]
  },
  {
   "cell_type": "code",
   "execution_count": 5,
   "metadata": {},
   "outputs": [
    {
     "name": "stdout",
     "output_type": "stream",
     "text": [
      "Correct ups prediction : 73.25 %\n",
      "Correct downs prediction : 81.26 %\n"
     ]
    }
   ],
   "source": [
    "correct_ups = 2486 / (2486 + 908)\n",
    "print(\"Correct ups prediction :\",round(correct_ups,4)*100, \"%\")\n",
    "correct_downs = 3292 / (3292 + 759)\n",
    "print(\"Correct downs prediction :\", round(correct_downs,4)*100, \"%\")"
   ]
  },
  {
   "cell_type": "code",
   "execution_count": 6,
   "metadata": {},
   "outputs": [
    {
     "name": "stdout",
     "output_type": "stream",
     "text": [
      "Automatically created module for IPython interactive environment\n"
     ]
    },
    {
     "data": {
      "image/png": "[encoded data removed]",
      "text/plain": [
       "<Figure size 288x216 with 1 Axes>"
      ]
     },
     "metadata": {
      "needs_background": "light"
     },
     "output_type": "display_data"
    }
   ],
   "source": [
    "print(__doc__)\n",
    "\n",
    "\n",
    "# Code source: Gael Varoquaux (https://scikit-learn.org/stable/auto_examples/linear_model/plot_logistic.html)\n",
    "# License: BSD 3 clause\n",
    "\n",
    "\n",
    "from sklearn import linear_model\n",
    "from scipy.special import expit\n",
    "\n",
    "# General a toy dataset:s it's just a straight line with some Gaussian noise:\n",
    "xmin, xmax = -5, 5\n",
    "n_samples = 100\n",
    "np.random.seed(0)\n",
    "X = np.random.normal(size=n_samples)\n",
    "y = (X > 0).astype(float)\n",
    "X[X > 0] *= 4\n",
    "X += .3 * np.random.normal(size=n_samples)\n",
    "\n",
    "X = X[:, np.newaxis]\n",
    "\n",
    "# Fit the classifier\n",
    "clf = linear_model.LogisticRegression(C=1e5)\n",
    "clf.fit(X, y)\n",
    "\n",
    "# and plot the result\n",
    "plt.figure(1, figsize=(4, 3))\n",
    "plt.clf()\n",
    "plt.scatter(X.ravel(), y, color='black', zorder=20)\n",
    "X_test = np.linspace(-5, 10, 300)\n",
    "\n",
    "loss = expit(X_test * clf.coef_ + clf.intercept_).ravel()\n",
    "plt.plot(X_test, loss, color='red', linewidth=3)\n",
    "\n",
    "ols = linear_model.LinearRegression()\n",
    "ols.fit(X, y)\n",
    "plt.plot(X_test, ols.coef_ * X_test + ols.intercept_, linewidth=1)\n",
    "plt.axhline(.5, color='.5')\n",
    "\n",
    "plt.ylabel('y')\n",
    "plt.xlabel('X')\n",
    "plt.xticks(range(-5, 10))\n",
    "plt.yticks([0, 0.5, 1])\n",
    "plt.ylim(-.25, 1.25)\n",
    "plt.xlim(-4, 10)\n",
    "plt.legend(('Logistic Regression Model', 'Linear Regression Model'),\n",
    "           loc=\"lower right\", fontsize='small')\n",
    "plt.savefig(\"logistic_theory.png\")"
   ]
  },
  {
   "cell_type": "code",
   "execution_count": null,
   "metadata": {},
   "outputs": [],
   "source": []
  },
  {
   "cell_type": "markdown",
   "metadata": {},
   "source": [
    "## "
   ]
  }
 ],
 "metadata": {
  "kernelspec": {
   "display_name": "Python 3",
   "language": "python",
   "name": "python3"
  },
  "language_info": {
   "codemirror_mode": {
    "name": "ipython",
    "version": 3
   },
   "file_extension": ".py",
   "mimetype": "text/x-python",
   "name": "python",
   "nbconvert_exporter": "python",
   "pygments_lexer": "ipython3",
   "version": "3.7.9"
  }
 },
 "nbformat": 4,
 "nbformat_minor": 4
}
