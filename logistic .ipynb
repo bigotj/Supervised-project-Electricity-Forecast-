{
 "cells": [
  {
   "cell_type": "markdown",
   "metadata": {},
   "source": [
    "# Logistic model \n",
    "This model is an application in Python of the model presented in chapter 4.6 of the book : \"introduction to statistical learning\" (Gareth James, Daniela Witten, Trevor Hastie, Robert Tibshirani). The model is aimed at predicting whether the day ahead price of electricity will go up or down. \n",
    "\n",
    "## 1. Load packages"
   ]
  },
  {
   "cell_type": "code",
   "execution_count": 1,
   "metadata": {},
   "outputs": [],
   "source": [
    "import pandas as pd \n",
    "import numpy as np\n",
    "import matplotlib.pyplot as plt \n",
    "import statsmodels.api as sm\n",
    "from sklearn.linear_model import LogisticRegression\n",
    "from sklearn.model_selection import train_test_split\n",
    "from sklearn.metrics import classification_report, confusion_matrix"
   ]
  },
  {
   "cell_type": "markdown",
   "metadata": {},
   "source": [
    "## 2. Prepare data "
   ]
  },
  {
   "cell_type": "code",
   "execution_count": 2,
   "metadata": {},
   "outputs": [],
   "source": [
    "#load data\n",
    "df = pd.read_csv(\"C:/Users/julie/dataframe_PS_2.csv\", index_col='Unnamed: 0')\n",
    "\n",
    "#compute returns \n",
    "df['preturn'] = df['P_DE'].pct_change()\n",
    "\n",
    "#create a direction variable : 1 if price went up, 0 if price went down \n",
    "df['direction'] = 1 * (df['preturn'] >=0) \n",
    "\n",
    "#drop nan\n",
    "df = df.dropna()\n",
    "\n",
    "#define X and y \n",
    "X = df[[\n",
    "    'temp_DE',\n",
    "    'Q_DE_lag1',\n",
    "    'P_DE_lag1',\n",
    "    'P_DE_lag2',\n",
    "    'P_DE_lag3',\n",
    "    'P_DE_lag4',\n",
    "    'P_DE_lag5',\n",
    "    'P_DE_lag6',\n",
    "    'P_DE_lag7',\n",
    "    'P_DE_lag8',\n",
    "    'P_DE_lag9',\n",
    "    'P_DE_lag10',\n",
    "    'P_DE_lag11',\n",
    "    'P_DE_lag12',\n",
    "    'P_DE_lag13',\n",
    "    'P_DE_lag14',\n",
    "    'P_DE_lag15',\n",
    "    'P_DE_lag16',\n",
    "    'P_DE_lag17',\n",
    "    'P_DE_lag18',\n",
    "    'P_DE_lag19',\n",
    "    'P_DE_lag20',\n",
    "    'P_DE_lag21',\n",
    "    'P_DE_lag22',\n",
    "    'P_DE_lag23',\n",
    "    'P_DE_lag24',\n",
    "   ]]\n",
    "\n",
    "y = df['direction']\n",
    "\n",
    "#split the dataframe betweenn train and test \n",
    "X_train = X.iloc[:round(len(df)*0.75)]\n",
    "y_train = y.iloc[:round(len(df)*0.75)]\n",
    "X_test = X.iloc[round(len(df)*0.75)+1:]\n",
    "y_test = y.iloc[round(len(df)*0.75)+1:]"
   ]
  },
  {
   "cell_type": "markdown",
   "metadata": {},
   "source": [
    "## 3. Estimation "
   ]
  },
  {
   "cell_type": "code",
   "execution_count": 3,
   "metadata": {},
   "outputs": [],
   "source": [
    "logreg = LogisticRegression(fit_intercept=True, max_iter=10000) \n",
    "logreg.fit(X_train, y_train)\n",
    "const = logreg.intercept_\n",
    "coefs = logreg.coef_\n",
    "prob = logreg.predict_proba(X_test)\n",
    "pred = logreg.predict(X_test)\n",
    "score = logreg.score(X_test, y_test)"
   ]
  },
  {
   "cell_type": "markdown",
   "metadata": {},
   "source": [
    "## 4. Evaluation"
   ]
  },
  {
   "cell_type": "code",
   "execution_count": 4,
   "metadata": {},
   "outputs": [
    {
     "data": {
      "image/png": "[encoded data removed]",
      "text/plain": [
       "<Figure size 576x576 with 1 Axes>"
      ]
     },
     "metadata": {
      "needs_background": "light"
     },
     "output_type": "display_data"
    }
   ],
   "source": [
    "cm = confusion_matrix(y_test, logreg.predict(X_test))\n",
    "\n",
    "fig, ax = plt.subplots(figsize=(8, 8))\n",
    "ax.imshow(cm)\n",
    "ax.grid(False)\n",
    "ax.xaxis.set(ticks=(0, 1), ticklabels=('Predicted 0s', 'Predicted 1s'))\n",
    "ax.yaxis.set(ticks=(0, 1), ticklabels=('Actual 0s', 'Actual 1s'))\n",
    "ax.set_ylim(1.5, -0.5)\n",
    "for i in range(2):\n",
    "    for j in range(2):\n",
    "        ax.text(j, i, cm[i, j], ha='center', va='center', color='red')\n",
    "plt.show()\n",
    "#plt.savefig('confusiionM.png')"
   ]
  },
  {
   "cell_type": "code",
   "execution_count": 10,
   "metadata": {},
   "outputs": [
    {
     "name": "stdout",
     "output_type": "stream",
     "text": [
      "Correct ups prediction : 71.95 %\n",
      "Correct downs prediction : 81.27 %\n"
     ]
    }
   ],
   "source": [
    "correct_ups = 2439 / (2439 + 951)\n",
    "print(\"Correct ups prediction :\",round(correct_ups,4)*100, \"%\")\n",
    "correct_downs = 3290 / (3290 + 758)\n",
    "print(\"Correct downs prediction :\", round(correct_downs,4)*100, \"%\")"
   ]
  }
 ],
 "metadata": {
  "kernelspec": {
   "display_name": "Python 3",
   "language": "python",
   "name": "python3"
  },
  "language_info": {
   "codemirror_mode": {
    "name": "ipython",
    "version": 3
   },
   "file_extension": ".py",
   "mimetype": "text/x-python",
   "name": "python",
   "nbconvert_exporter": "python",
   "pygments_lexer": "ipython3",
   "version": "3.7.9"
  }
 },
 "nbformat": 4,
 "nbformat_minor": 4
}
